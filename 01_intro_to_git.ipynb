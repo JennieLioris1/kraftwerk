{
 "cells": [
  {
   "cell_type": "markdown",
   "metadata": {},
   "source": [
    "# Introduction to Git and your Terminal \n",
    "\n",
    "**OBJECTIVES**\n",
    "\n",
    "- Navigate files and directories using your terminal\n",
    "- Create, alter, and delete files using your terminal\n",
    "- Create `.git` repositories locally in your terminal\n",
    "- Create `github` repositories online\n",
    "- Connect local `.git` repositories to `github` \n",
    "- Use the **add, commit, push** commands to update work in remote repository\n",
    "\n",
    "\n",
    "<center>\n",
    "    <img src = https://git-scm.com/images/logo@2x.png />\n",
    "    </center>"
   ]
  },
  {
   "cell_type": "markdown",
   "metadata": {},
   "source": [
    "**REQUIREMENTS**\n",
    "\n",
    "- Terminal application with `git` installed.  For windows users, the easiest approach is to download and install **[git for windows](https://gitforwindows.org/)**."
   ]
  },
  {
   "cell_type": "markdown",
   "metadata": {},
   "source": [
    "## Using the Terminal\n",
    "\n",
    "In this exercise, our focus will be on using the terminal to navigate files and directories as well as to create and destroy files and directories. \n",
    "\n",
    "![](images/terminal.png)"
   ]
  },
  {
   "cell_type": "markdown",
   "metadata": {},
   "source": [
    "### Navigating Files\n",
    "\n",
    "- Use `pwd` to see where you currently are located"
   ]
  },
  {
   "cell_type": "code",
   "execution_count": 1,
   "metadata": {},
   "outputs": [
    {
     "data": {
      "text/plain": [
       "'/Users/jennie/Desktop/Bureau_je_2/COURS/MODULES/Module_5_GIT/ACTIVITIES_M5/activity_5_1_starter_git'"
      ]
     },
     "execution_count": 1,
     "metadata": {},
     "output_type": "execute_result"
    }
   ],
   "source": [
    "pwd"
   ]
  },
  {
   "cell_type": "markdown",
   "metadata": {},
   "source": [
    "- Use `ls` to see the files and folders available"
   ]
  },
  {
   "cell_type": "code",
   "execution_count": 2,
   "metadata": {},
   "outputs": [
    {
     "name": "stdout",
     "output_type": "stream",
     "text": [
      "01_intro_to_git.ipynb                \u001b[34mimages\u001b[m\u001b[m/\r\n",
      "\u001b[34mfi_activity_5p1_starter_jennie.rtfd\u001b[m\u001b[m/\r\n"
     ]
    }
   ],
   "source": [
    "ls"
   ]
  },
  {
   "cell_type": "markdown",
   "metadata": {},
   "source": [
    "- Use `ls -F` to differentiate between files and folders"
   ]
  },
  {
   "cell_type": "code",
   "execution_count": 3,
   "metadata": {},
   "outputs": [
    {
     "name": "stdout",
     "output_type": "stream",
     "text": [
      "01_intro_to_git.ipynb                \u001b[34mimages\u001b[m\u001b[m/\r\n",
      "\u001b[34mfi_activity_5p1_starter_jennie.rtfd\u001b[m\u001b[m/\r\n"
     ]
    }
   ],
   "source": [
    "ls -F"
   ]
  },
  {
   "cell_type": "markdown",
   "metadata": {},
   "source": [
    "- Use `cd` to change directory"
   ]
  },
  {
   "cell_type": "code",
   "execution_count": 4,
   "metadata": {},
   "outputs": [
    {
     "name": "stdout",
     "output_type": "stream",
     "text": [
      "/Users/jennie\n"
     ]
    }
   ],
   "source": [
    "cd"
   ]
  },
  {
   "cell_type": "markdown",
   "metadata": {},
   "source": [
    "- Use `mkdir` to make a new directory"
   ]
  },
  {
   "cell_type": "code",
   "execution_count": 12,
   "metadata": {},
   "outputs": [
    {
     "ename": "SyntaxError",
     "evalue": "invalid syntax (<ipython-input-12-aa524c5e3b87>, line 2)",
     "output_type": "error",
     "traceback": [
      "\u001b[0;36m  File \u001b[0;32m\"<ipython-input-12-aa524c5e3b87>\"\u001b[0;36m, line \u001b[0;32m2\u001b[0m\n\u001b[0;31m    mkdir test_folder\u001b[0m\n\u001b[0m          ^\u001b[0m\n\u001b[0;31mSyntaxError\u001b[0m\u001b[0;31m:\u001b[0m invalid syntax\n"
     ]
    }
   ],
   "source": [
    "# mkdir directory name, that is mkdir test for ex but  I do not create one\n",
    "mkdir test_folder"
   ]
  },
  {
   "cell_type": "markdown",
   "metadata": {},
   "source": [
    "- Use `touch` to create a new `.txt` file"
   ]
  },
  {
   "cell_type": "code",
   "execution_count": 13,
   "metadata": {},
   "outputs": [
    {
     "ename": "SyntaxError",
     "evalue": "invalid syntax (<ipython-input-13-b4db9ee6559b>, line 2)",
     "output_type": "error",
     "traceback": [
      "\u001b[0;36m  File \u001b[0;32m\"<ipython-input-13-b4db9ee6559b>\"\u001b[0;36m, line \u001b[0;32m2\u001b[0m\n\u001b[0;31m    touch test.txt\u001b[0m\n\u001b[0m          ^\u001b[0m\n\u001b[0;31mSyntaxError\u001b[0m\u001b[0;31m:\u001b[0m invalid syntax\n"
     ]
    }
   ],
   "source": [
    "#touch name file to create, here it doesn't work but on a terminal is OK\n",
    "touch test.txt"
   ]
  },
  {
   "cell_type": "markdown",
   "metadata": {},
   "source": [
    "- Use `rm` **VERY CAREFULLY** to delete the file"
   ]
  },
  {
   "cell_type": "code",
   "execution_count": 9,
   "metadata": {},
   "outputs": [
    {
     "ename": "SyntaxError",
     "evalue": "invalid syntax (<ipython-input-9-bc9071bf3844>, line 2)",
     "output_type": "error",
     "traceback": [
      "\u001b[0;36m  File \u001b[0;32m\"<ipython-input-9-bc9071bf3844>\"\u001b[0;36m, line \u001b[0;32m2\u001b[0m\n\u001b[0;31m    rm -i test.txt\u001b[0m\n\u001b[0m          ^\u001b[0m\n\u001b[0;31mSyntaxError\u001b[0m\u001b[0;31m:\u001b[0m invalid syntax\n"
     ]
    }
   ],
   "source": [
    "#rm - i name  of the file\n",
    "rm -i test.txt"
   ]
  },
  {
   "cell_type": "markdown",
   "metadata": {},
   "source": [
    "- Use `rm` **VERY CAREFULLY** to examine the contents of a directory and delete one by one"
   ]
  },
  {
   "cell_type": "code",
   "execution_count": 14,
   "metadata": {},
   "outputs": [
    {
     "ename": "SyntaxError",
     "evalue": "invalid syntax (<ipython-input-14-01f13999094c>, line 2)",
     "output_type": "error",
     "traceback": [
      "\u001b[0;36m  File \u001b[0;32m\"<ipython-input-14-01f13999094c>\"\u001b[0;36m, line \u001b[0;32m2\u001b[0m\n\u001b[0;31m    rm -rI test_folder\u001b[0m\n\u001b[0m           ^\u001b[0m\n\u001b[0;31mSyntaxError\u001b[0m\u001b[0;31m:\u001b[0m invalid syntax\n"
     ]
    }
   ],
   "source": [
    "#rm -rI name of the folder \n",
    "rm -rI test_folder\n",
    "#I would have asled:  recursively remove test_folder?"
   ]
  },
  {
   "cell_type": "markdown",
   "metadata": {},
   "source": [
    "## Introduction to `git`\n",
    "\n",
    "Now that we have a basic understanding of moving around on our computer, we introduce a tool for keeping track of our work versions. This gives us a historical record of changes and can move backwards and forwards through these changes as we work.   \n",
    "\n"
   ]
  },
  {
   "cell_type": "markdown",
   "metadata": {},
   "source": [
    "### Configuring Git\n",
    "\n",
    "To get started, we want to configure a name and email for our git account.  This should be the same username and email that you use later to setup a `github` account.  In your terminal, use the following lines of code to configure the username and email, replacing *Steven Segal* with your username and the *ssegal@aol.com* with your email.\n",
    "\n",
    "- `git config --global user.name \"Steven Segal\"`\n",
    "- `git config --global user.email \"ssegal@aol.com\"`"
   ]
  },
  {
   "cell_type": "markdown",
   "metadata": {},
   "source": [
    "### Setting up a Text Editor\n",
    "\n",
    "**Vim** is default -- you have decisions to make as to whether this is right for you.  Depending on your choice of text editor, you will have to enter the appropriate code.  For a full list of text editor options see [here](https://git-scm.com/book/en/v2/Appendix-C%3A-Git-Commands-Setup-and-Config#ch_core_editor).\n",
    "\n",
    "- *nano*: `git config --global core.editor \"nano -w\"`\n",
    "- *VS code*:`git config --global core.editor \"code --wait\"`"
   ]
  },
  {
   "cell_type": "markdown",
   "metadata": {},
   "source": [
    "### Checking Configuration\n",
    "\n",
    "To look over your basic configuration settings for git, you can use the following command:\n",
    "\n",
    "- `git config --list`\n",
    "\n"
   ]
  },
  {
   "cell_type": "code",
   "execution_count": null,
   "metadata": {},
   "outputs": [],
   "source": [
    "git config --global user.name \"JennieLioris1\"\n",
    "git config --global user.email \"lioris.jennie1@icloud.com\"\n",
    "#i need to set up Visual Studio code, temporarily I am using TextEdit\n",
    "git config --global core.editor \"open --wait-apps --new -e\"\n",
    "git config --list"
   ]
  },
  {
   "cell_type": "markdown",
   "metadata": {},
   "source": [
    "### A New Project\n",
    "\n",
    "<center>\n",
    "<img src = https://upload.wikimedia.org/wikipedia/en/7/7f/Kraftwerk_-_The_Man-Machine.png width = 30%/><img src = https://upload.wikimedia.org/wikipedia/en/a/a6/Kraftwerk_-_Computer_World.png width = 30% />\n",
    "    </center>\n",
    "    \n",
    "    \n",
    "For this example, we will create a new directory and locate a new `git` repository inside of the directory.  We want the new directory to be located on our `Desktop` and will name it `kraftwerk`.  Starting from our root user directory, we will navigate to the `Desktop`, create a new directory named `kraftwerk` and move into that directory.  The following commands will accomplish this:\n",
    "\n",
    "\n",
    "\n",
    "\n",
    "\n",
    "- `cd Desktop`\n",
    "- `mkdir kraftwerk`\n",
    "- `cd kraftwerk`"
   ]
  },
  {
   "cell_type": "markdown",
   "metadata": {},
   "source": [
    "### Creating a `git` Repository\n",
    "\n",
    "Now that we have our folder ready and are located inside of the folder `kraftwerk` on our `Desktop`, we will create a `git` repository to track our work.  The command `git init` creates a new repository and we should see evidence of the new repository with the line:\n",
    "\n",
    "```\n",
    "Initialized empty Git repository in\n",
    "/Users/jacobkoehler/Desktop/kraftwerk/.git/\n",
    "```\n",
    "\n",
    "The repository itself will be a hidden directory.  Using our `ls -a` command, we should see the empty repository.\n",
    "\n",
    "![](images/newgit.png)"
   ]
  },
  {
   "cell_type": "markdown",
   "metadata": {},
   "source": [
    "### Creating a new file\n",
    "\n",
    "Now, use your text editor to create a new file called `manmachine.txt`.  For example, using the `nano` editor we would write:\n",
    "\n",
    "\n",
    "- `nano manmachine.txt`\n",
    "\n",
    "From here, add the following line to the file:"
   ]
  },
  {
   "cell_type": "markdown",
   "metadata": {},
   "source": [
    "`\"The Man-Machine stands as one of the pinnacles of 70's rock music\"`"
   ]
  },
  {
   "cell_type": "markdown",
   "metadata": {},
   "source": [
    "![](images/manmachine.png)"
   ]
  },
  {
   "cell_type": "markdown",
   "metadata": {},
   "source": [
    "We can examine the contents of the file with the `cat` command:\n",
    "\n",
    "- `cat manmachine.txt`\n",
    "\n",
    "and should see the following:\n",
    "\n",
    "![](images/cat.png)"
   ]
  },
  {
   "cell_type": "markdown",
   "metadata": {},
   "source": [
    "Our purpose here is to keep track of changes to files.  Our `.git` repository is doing this automatically, as we can see with the `status` command.  Note that we preface our commands with `git`, so we write `git status`, and see:\n",
    "\n",
    "![](images/status.png)"
   ]
  },
  {
   "cell_type": "markdown",
   "metadata": {},
   "source": [
    "As instructed, we want to add our file to be tracked by `git`.  To do so, we write:\n",
    "\n",
    "- `git add manmachine.txt`"
   ]
  },
  {
   "cell_type": "markdown",
   "metadata": {},
   "source": [
    "Now, when we examine the status of our repository we should see that a new file has been added to the repository\n",
    "\n",
    "- `git status`\n",
    "\n",
    "![](images/newfile.png)"
   ]
  },
  {
   "cell_type": "markdown",
   "metadata": {},
   "source": [
    "Now that the file has been added to tracking, we want to save our changes and associate them with a **commit message**.  This message helps associate the changes made with a human readable message.  For example, using `git commit -m \"Started info on manmachine\"` .  Now, we have a version of our work saved that we can return to if we so desire.   "
   ]
  },
  {
   "cell_type": "markdown",
   "metadata": {},
   "source": [
    "To check the status of our repository and whether there have been any changes made to the files we use `git status`.  To see a recent history of our changes, we can use `git log`. "
   ]
  },
  {
   "cell_type": "markdown",
   "metadata": {},
   "source": [
    "### Making changes and updating the repository\n",
    "\n",
    "Now, let's make changes to the file and see how to keep track of our updates.  Open the file using `nano manmachine.txt`, and add the following text:"
   ]
  },
  {
   "cell_type": "markdown",
   "metadata": {},
   "source": [
    "`\"Contains song THE ROBOTS where lyrics reference the revolutionary technique of robotics, and how humans can use them as they wish\"`"
   ]
  },
  {
   "cell_type": "markdown",
   "metadata": {},
   "source": [
    "Save the file and exit.  Now, check the status of your repository again using `git status`.  You should see that the `manmachine.txt` file has been modified.  To explore the specifics of the changes, we can use `git diff`.  You can see the `+` sign next to the new additions:\n",
    "\n",
    "![](images/diff.png)"
   ]
  },
  {
   "cell_type": "markdown",
   "metadata": {},
   "source": [
    "To save a record of our changes, we will again add the changes to the staging area, and commit them accompanied by a message."
   ]
  },
  {
   "cell_type": "markdown",
   "metadata": {},
   "source": [
    "- `git add manmachine.txt`\n",
    "- `git commit -m \"Added info on THE ROBOTS lyrics\"`\n",
    "\n",
    "After doing this, we should see no changes staged to commit.\n",
    "\n",
    "- `git status`"
   ]
  },
  {
   "cell_type": "markdown",
   "metadata": {},
   "source": [
    "### Changing things again"
   ]
  },
  {
   "cell_type": "markdown",
   "metadata": {},
   "source": [
    "One more time, let's add some text to our file.\n",
    "\n",
    "\n",
    "- `nano manmachine.txt`\n",
    "\n",
    "`\"When the song is performed live, the band is traditionally replaced by robots that resemble themselves\"`\n",
    "\n",
    "Make sure to add the file changes to be tracked, and commit them with an informative message.  "
   ]
  },
  {
   "cell_type": "markdown",
   "metadata": {},
   "source": [
    "### Big Idea: Staging Area\n",
    "\n",
    "Our workflow here will be as follows:\n",
    "\n",
    "- Create a folder to house your work\n",
    "- Create a new `git` repository in that folder\n",
    "- When changes are made to a file, add the file to be tracked with `git add filename`\n",
    "- To commit changes to your repository use `git commit -m \"an informative commit message\"`\n",
    "\n",
    "\n",
    "\n",
    "<img src = https://swcarpentry.github.io/git-novice/fig/git-staging-area.svg />"
   ]
  },
  {
   "cell_type": "markdown",
   "metadata": {},
   "source": [
    "##### Extra Practice\n",
    "\n",
    "1. Create a new directory and check the status of your repository.  Add your repo to the staging area and recheck the status.  What do you notice?\n",
    "\n",
    "2. What criticism might you have about the following commit message?\n",
    "\n",
    " - `git commit -m \"changed stuff\"`\n",
    " \n",
    "3. We can add multiple files to the staging area using either wildcards or by multiple adds before a commit.  What do you think is a drawback to working on multiple files and using the command:\n",
    "\n",
    " - `git add .`\n",
    " \n",
    "4. Please do the following:\n",
    " - Create a new git repository on your computer called me. \n",
    " - Write a one sentence biography in a file called `me.txt`.\n",
    " - Commit your changes.  \n",
    " - Modify a line and display the differences between updated state and its original state."
   ]
  },
  {
   "cell_type": "markdown",
   "metadata": {},
   "source": [
    "#### Extra Commands"
   ]
  },
  {
   "cell_type": "markdown",
   "metadata": {},
   "source": [
    "**Tracking Changes**\n",
    "\n",
    "- `git status`\n",
    "- `git add`\n",
    "- `git commit`\n",
    "- `git log`\n",
    "- `git diff`"
   ]
  },
  {
   "cell_type": "markdown",
   "metadata": {},
   "source": [
    "**Exploring History**\n",
    "\n",
    "- `git diff HEAD`\n",
    "- `git diff HEAD~1 manmachine.txt`\n",
    "- `git show HEAD~2 manmachine.txt`\n",
    "- `git checkout`\n",
    "- `git diff somebiglongstring`\n"
   ]
  },
  {
   "cell_type": "markdown",
   "metadata": {},
   "source": [
    "##### HEAD\n",
    "\n",
    "- `git checkout master`"
   ]
  },
  {
   "cell_type": "markdown",
   "metadata": {},
   "source": [
    "##### PROBLEM\n",
    "\n",
    "Create a new file called `computerworld.txt` with the line of text:\n",
    "\n",
    "- `\"The album deals with the themes of the rise of computers within society.\"`\n",
    "\n",
    "Stage the changes and add a second line:\n",
    "\n",
    "- `\"The track \"Computer Love\" was released as a seven-inch single in the UK, in July 1981, backed with \"The Model\", from the group's previous album The Man-Machine. \"`\n",
    "\n",
    "Commit the changes with an appropriate message.  What would be the output of:\n",
    "\n",
    "- `git checkout HEAD computerworld.txt`\n",
    "- `cat computerworld.txt`"
   ]
  },
  {
   "cell_type": "markdown",
   "metadata": {},
   "source": [
    "What is the difference between running:\n",
    "\n",
    "- `git log`\n",
    "\n",
    "- `git log computerworld.txt`\n",
    "\n",
    "- `git log --patch HEAD~2 *.txt`"
   ]
  },
  {
   "cell_type": "markdown",
   "metadata": {},
   "source": [
    "### Setting Up a `github.com` Account\n",
    "\n",
    "Outside of tracking our version history locally, we will use `.git` to move files back and forth from our local computer to a remote repository on the web.  Our remote repository will be located on the website `github.com`, so first thing we need to do is setup a new account if you don't have one already.  This will have to use the same username and email as your local git configuration, so make sure to check that first. \n",
    "\n",
    "\n",
    "\n",
    "### Creating a New Repository on `github.com`\n",
    "\n",
    "Once you have your account setup, you can create a new repository by clicking the **new repository** button.  Name the repository whatever you would like, and make sure **DO NOT ADD A README.md FILE**.  \n",
    "\n",
    "<img src = images/remotecreate.png />"
   ]
  },
  {
   "cell_type": "markdown",
   "metadata": {},
   "source": [
    "### Connecting with your local repository\n",
    "\n",
    "Once you create the new repository on `github.com` you should see the following:\n",
    "\n",
    "![](images/instructions.png)"
   ]
  },
  {
   "cell_type": "markdown",
   "metadata": {},
   "source": [
    "We are interested in the commands for **push an existing repository from the command line**.  Making sure you are located in your `kraftwerk` folder on your desktop with the git repository, you can run the three commands:\n",
    "\n",
    "```\n",
    "git remote add origin https://github.com/jfkoehler/kraftwerk.git\n",
    "git branch -M main\n",
    "git push -u origin main\n",
    "```"
   ]
  },
  {
   "cell_type": "markdown",
   "metadata": {},
   "source": [
    "to connect your repository and move the files to your online repo with the `push` command.  "
   ]
  },
  {
   "cell_type": "markdown",
   "metadata": {},
   "source": [
    "### A Typical Repo Structure"
   ]
  },
  {
   "cell_type": "markdown",
   "metadata": {},
   "source": [
    "#I am not sure where to add the answers of all the previous problems so I do it here.\n",
    "#PROBLEM A New Project"
   ]
  },
  {
   "cell_type": "markdown",
   "metadata": {},
   "source": [
    "#located on Desktop, create a directory named kraftwerk and move into it"
   ]
  },
  {
   "cell_type": "code",
   "execution_count": null,
   "metadata": {},
   "outputs": [],
   "source": [
    "cd Desktop\n",
    "mkdir kraftwerk\n",
    "cd kraftwerk"
   ]
  },
  {
   "cell_type": "markdown",
   "metadata": {},
   "source": [
    "#PROBLEM Creating a git Repository"
   ]
  },
  {
   "cell_type": "code",
   "execution_count": null,
   "metadata": {},
   "outputs": [],
   "source": [
    "git init\n",
    "#see the empty hidden repository\n",
    "ls -a"
   ]
  },
  {
   "cell_type": "markdown",
   "metadata": {},
   "source": [
    "#PROBLEM Creating a new file"
   ]
  },
  {
   "cell_type": "code",
   "execution_count": null,
   "metadata": {},
   "outputs": [],
   "source": [
    "touch manmachine.txt\n",
    "#add the line\n",
    "echo \"The Man-Machine stands as one of the pinnacles of 70's rock music\" >> manmachine.txt\n",
    "# examine the contents of the file with the cat command:\n",
    "cat manmachine.txt\n",
    "#see with the status\n",
    "git status "
   ]
  },
  {
   "cell_type": "markdown",
   "metadata": {},
   "source": [
    "#add file to stage area to be tracked by git and save  changes and associate them with a commit message"
   ]
  },
  {
   "cell_type": "code",
   "execution_count": null,
   "metadata": {},
   "outputs": [],
   "source": [
    "git add manmachine.txt\n",
    "git commit -m \"Started info on manmachine\""
   ]
  },
  {
   "cell_type": "markdown",
   "metadata": {},
   "source": [
    "#check the status ofrepository  see a recent history of  changes"
   ]
  },
  {
   "cell_type": "code",
   "execution_count": null,
   "metadata": {},
   "outputs": [],
   "source": [
    "git status\n",
    "git log"
   ]
  },
  {
   "cell_type": "markdown",
   "metadata": {},
   "source": [
    "#Making changes and updating the repository"
   ]
  },
  {
   "cell_type": "code",
   "execution_count": null,
   "metadata": {},
   "outputs": [],
   "source": [
    "echo \"Contains song THE ROBOTS where lyrics reference the revolutionary technique of robotics, and how humans can use them as they wish\" >> manmachine.txt\n",
    "git status\n",
    "#explore differences\n",
    "git diff"
   ]
  },
  {
   "cell_type": "markdown",
   "metadata": {},
   "source": [
    "#save a record of changes,add the changes to the staging area, and commit them accompanied by a message."
   ]
  },
  {
   "cell_type": "code",
   "execution_count": null,
   "metadata": {},
   "outputs": [],
   "source": [
    "git add manmachine.txt\n",
    "git commit -m \"Added info on THE ROBOTS lyrics\"\n",
    "git status"
   ]
  },
  {
   "cell_type": "markdown",
   "metadata": {},
   "source": [
    "#Changing things again"
   ]
  },
  {
   "cell_type": "code",
   "execution_count": null,
   "metadata": {},
   "outputs": [],
   "source": [
    "#add line to file\n",
    "echo \"When the song is performed live, the band is traditionally replaced by robots that resemble themselves\" >> manmachine.txt"
   ]
  },
  {
   "cell_type": "code",
   "execution_count": null,
   "metadata": {},
   "outputs": [],
   "source": [
    "git add manmachine.txt\n",
    "git commit -m \"Added info on how THE ROBOTS replace humans\"\n",
    "git status"
   ]
  },
  {
   "cell_type": "markdown",
   "metadata": {},
   "source": [
    "#Extra Practice¶\n",
    "\n",
    "#1. Create a new directory and check the status of your repository. \n",
    "#Add your repo to the staging area and recheck the status.\n",
    "#What do you notice?"
   ]
  },
  {
   "cell_type": "code",
   "execution_count": null,
   "metadata": {},
   "outputs": [],
   "source": [
    "#cd Desktop \n",
    "mkdir dir_j_tes\n",
    "git status\n",
    "git init\n",
    "git status"
   ]
  },
  {
   "cell_type": "markdown",
   "metadata": {},
   "source": [
    "#2. What criticism might you have about the following commit message?\n",
    "\n",
    "#git commit -m \"changed stuff\"\n",
    "#Answer : as I understood the question I have created a directory initialized a git repository in it but there is #no file created so I am commiting an empty repository\n",
    "#3. We can add multiple files to the staging area using either wildcards or by multiple adds before a commit. What #do you think is a drawback to working on multiple files and using the command:\n",
    "\n",
    "#git add .\n",
    "#wild card is a system for linux/unix to add recusrively files or od other operations\n",
    "#Using command \"git add.\" it ill stage all the files in the entire repository  \n",
    "#is this what we always want ? may be there are some which do not need to be staged for any reason.\n",
    "Perhaps there are other drawbacks  which I do not think of right now"
   ]
  },
  {
   "cell_type": "code",
   "execution_count": null,
   "metadata": {},
   "outputs": [],
   "source": [
    "#4. Please do the following:\n",
    "\n",
    "#\t•\tCreate a new git repository on your computer called me.\n",
    "\n",
    "cd Desktop\n",
    "mkdir me\n",
    "cd me\n",
    "git init\n",
    "\n",
    "#\t•\tWrite a one sentence biography in a file called me.txt.\n",
    "\n",
    "touch me.txt\n",
    "\n",
    "echo  Résumé Jennie Lioris >> me.txt\n",
    "cat me.txt\n",
    "\n",
    "#\t•\tCommit your changes.\n",
    "\n",
    "git add me.txt\n",
    "git commit -m \"start résumé jl\"\n",
    "\n",
    "#\t•\tModify a line and display the differences between updated state and its original state.\n",
    "\n",
    "echo \"P\" >>me.txt\n",
    "cat me.txt\n",
    "git diff"
   ]
  },
  {
   "cell_type": "code",
   "execution_count": null,
   "metadata": {},
   "outputs": [],
   "source": []
  },
  {
   "cell_type": "code",
   "execution_count": null,
   "metadata": {},
   "outputs": [],
   "source": []
  },
  {
   "cell_type": "code",
   "execution_count": null,
   "metadata": {},
   "outputs": [],
   "source": []
  },
  {
   "cell_type": "markdown",
   "metadata": {},
   "source": [
    "### PROBLEM\n",
    "\n",
    "Organize the list below into an appropriate order so as to minimize the opportunity for conflicts.\n",
    "\n",
    "a. Change file computerworld.txt to include text `\"In two photos, the mannequin representing Karl Bartos is seen playing a Stylophone, an instrument which is featured on the track \"Pocket Calculator\".\"`\n",
    "\n",
    "b. Update remote repo with local changes\n",
    "\n",
    "c. Celebrate success with beers and kraftwerk soundtrack\n",
    "\n",
    "d. Update local repo based on remote\n",
    "\n",
    "e. Stage changes for commit\n",
    "\n",
    "f. Commit changes locally"
   ]
  },
  {
   "cell_type": "code",
   "execution_count": null,
   "metadata": {},
   "outputs": [],
   "source": [
    "touch computerworld.txt \n",
    "echo The album deals with the themes of the rise of computers within society.  >> computerworld.txt"
   ]
  },
  {
   "cell_type": "code",
   "execution_count": 16,
   "metadata": {},
   "outputs": [],
   "source": [
    "git add  computerworld.txt"
   ]
  },
  {
   "cell_type": "code",
   "execution_count": null,
   "metadata": {},
   "outputs": [],
   "source": [
    "echo \"The track \"Computer Love\" was released as a seven-inch single in the UK, in July 1981, backed with \"The Model\", from the group's previous album The Man-Machine. \"  >> computerworld.txt"
   ]
  },
  {
   "cell_type": "code",
   "execution_count": null,
   "metadata": {},
   "outputs": [],
   "source": [
    "git add  computerworld.txt\n",
    "git commit -m \"Added info on track releases\""
   ]
  },
  {
   "cell_type": "code",
   "execution_count": null,
   "metadata": {},
   "outputs": [],
   "source": [
    "git checkout HEAD computerworld.txt\n",
    "\n",
    "#as I understand there are three levels regarding git, the working directory, the stage area and the History where files are commit\n",
    "# git checkout HEAD will copie the katest commit version of the file eithetr to the stage area and working directory"
   ]
  },
  {
   "cell_type": "code",
   "execution_count": null,
   "metadata": {},
   "outputs": [],
   "source": [
    "cat computerworld.txt\n",
    "#it shows the content of file computerworld.txt"
   ]
  },
  {
   "cell_type": "markdown",
   "metadata": {},
   "source": [
    "#Setting Up a github.com Account¶\n",
    "#i did it and had to create a token to use push command from terminal (and others) \n",
    "#https://docs.github.com/en/authentication/keeping-your-account-and-data-secure/creating-a-personal-access-token\n",
    "#Creating a New Repository on github.com¶ Done\n",
    "#Connecting with your local repository\n",
    "#Making sure you are located in your kraftwerk folder on your desktop with the git repository, you can run the #three commands:\n",
    "#git remote add origin https://github.com/JennieLioris1/kraftwerk.git\n",
    "#git branch -M main\n",
    "#git push -u origin main DONE"
   ]
  },
  {
   "cell_type": "markdown",
   "metadata": {},
   "source": [
    "#PROBLEM¶\n",
    "#Organize the list below into an appropriate order so as to minimize the opportunity for conflicts.\n",
    "\n",
    "\n",
    "\n",
    "#a. Change file computerworld.txt to include text \"In two photos, the mannequin representing Karl Bartos is seen #playing a Stylophone, an instrument which is featured on the track \"Pocket Calculator\".\"\n",
    "#b. Update remote repo with local changes\n",
    "#c. Celebrate success with beers and kraftwerk soundtrack\n",
    "#d. Update local repo based on remote\n",
    "#e. Stage changes for commit\n",
    "#f. Commit changes locally"
   ]
  },
  {
   "cell_type": "code",
   "execution_count": null,
   "metadata": {},
   "outputs": [],
   "source": [
    "#1) d->1, Update local repo based on remote\n",
    "\n",
    "cd kraftwerk (if we are not in the folder with the repository)\n",
    "\n",
    "#clone the git  remote repository to the git local repository\n",
    "\n",
    "git clone  https://github.com/JennieLioris1/kraftwerk.git\n",
    "\n",
    "#the local repository is updated with remote repository changes\n",
    "git pull origin main\n"
   ]
  },
  {
   "cell_type": "code",
   "execution_count": null,
   "metadata": {},
   "outputs": [],
   "source": [
    "#2)\n",
    "#a->2, Change file computerworld.txt to include text \"In two photos, the mannequin representing Karl Bartos is seen playing a Stylophone, an instrument which is featured on the track \"Pocket Calculator\".\"\n",
    "\n",
    "echo \"In two photos, the mannequin representing Karl Bartos is seen playing a Stylophone, an instrument which is featured on the track \"Pocket Calculator\".\" >> computerworld.txt\n"
   ]
  },
  {
   "cell_type": "code",
   "execution_count": null,
   "metadata": {},
   "outputs": [],
   "source": [
    "#3)\n",
    "#e -> 3, Stage changes for commit\n",
    "git add computerworld.txt"
   ]
  },
  {
   "cell_type": "code",
   "execution_count": null,
   "metadata": {},
   "outputs": [],
   "source": [
    "#4)\n",
    "#f->4, Commit changes locally\n",
    "git commit -m \"stylopholone explanation appearing in photos\" "
   ]
  },
  {
   "cell_type": "code",
   "execution_count": null,
   "metadata": {},
   "outputs": [],
   "source": [
    "#5)\n",
    "#c ->5, Celebrate success with beers and kraftwerk soundtrack\n",
    "echo \"Celebrate success with beers and kraftwerk soundtrack\" >> computerworld.txt"
   ]
  },
  {
   "cell_type": "code",
   "execution_count": null,
   "metadata": {},
   "outputs": [],
   "source": [
    "#6)\n",
    "#d ->6, Stage changes for commit\n",
    "git add computerworld.txt \n"
   ]
  },
  {
   "cell_type": "code",
   "execution_count": null,
   "metadata": {},
   "outputs": [],
   "source": [
    "#7)\n",
    "#f->7, Commit changes locally\n",
    "git commit -m \"celebrate success\" "
   ]
  },
  {
   "cell_type": "code",
   "execution_count": null,
   "metadata": {},
   "outputs": [],
   "source": [
    "#8)\n",
    "#b->8, Update remote repo with local changes\n",
    "git remote add origin https://github.com/JennieLioris1/kraftwerk.git\n",
    "git branch -M main\n",
    "git push -u origin main"
   ]
  },
  {
   "cell_type": "code",
   "execution_count": null,
   "metadata": {},
   "outputs": [],
   "source": []
  },
  {
   "cell_type": "code",
   "execution_count": null,
   "metadata": {},
   "outputs": [],
   "source": []
  },
  {
   "cell_type": "code",
   "execution_count": null,
   "metadata": {},
   "outputs": [],
   "source": []
  },
  {
   "cell_type": "code",
   "execution_count": null,
   "metadata": {},
   "outputs": [],
   "source": []
  },
  {
   "cell_type": "code",
   "execution_count": null,
   "metadata": {},
   "outputs": [],
   "source": []
  }
 ],
 "metadata": {
  "kernelspec": {
   "display_name": "Python 3",
   "language": "python",
   "name": "python3"
  },
  "language_info": {
   "codemirror_mode": {
    "name": "ipython",
    "version": 3
   },
   "file_extension": ".py",
   "mimetype": "text/x-python",
   "name": "python",
   "nbconvert_exporter": "python",
   "pygments_lexer": "ipython3",
   "version": "3.8.3"
  },
  "widgets": {
   "application/vnd.jupyter.widget-state+json": {
    "state": {},
    "version_major": 2,
    "version_minor": 0
   }
  }
 },
 "nbformat": 4,
 "nbformat_minor": 4
}
